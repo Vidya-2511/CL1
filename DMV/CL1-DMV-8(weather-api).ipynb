{
 "cells": [
  {
   "cell_type": "markdown",
   "id": "af774950-e3f3-4704-9f3e-597030779b61",
   "metadata": {},
   "source": [
    "Interacting with Web APIs \n",
    "Problem Statement: Analyzing Weather Data from OpenWeatherMap API \n",
    "Dataset: Weather data retrieved from OpenWeatherMap API \n",
    "Description: The goal is to interact with the OpenWeatherMap API to retrieve weather data \n",
    "for a specific location and perform data modeling and visualization toanalyze weather \n",
    "patterns over time. \n",
    "Tasks to Perform: \n",
    "1. Register and obtain API key from OpenWeatherMap. \n",
    "2. Interact with the OpenWeatherMap API using the API key to retrieve weather data for \n",
    "a specific location. \n",
    "3. Extract relevant weather attributes such as temperature, humidity, wind speed, and \n",
    "precipitation from the API response. \n",
    "4. Clean and preprocess the retrieved data, handling missing values or inconsistent \n",
    "formats. \n",
    "5. Perform data modeling to analyze weather patterns, such as calculating average \n",
    "temperature, maximum/minimum values, or trends over time. \n",
    "6. Visualize the weather data using appropriate plots, such as line charts, bar plots, or \n",
    "scatter plots, to represent temperature changes, precipitation levels, or wind speed \n",
    "variations. \n",
    "7. Apply data aggregation techniques to summarize weather statistics by specific time \n",
    "periods (e.g., daily, monthly, seasonal). \n",
    "8. Incorporate geographical information, if available, to create maps or geospatial \n",
    "visualizations representing weather patterns across different locations. \n",
    "9. Explore and visualize relationships between weather attributes, such as temperature \n",
    "and humidity, using correlation plots or heatmaps. "
   ]
  },
  {
   "cell_type": "code",
   "execution_count": 1,
   "id": "4e7b6e76-1802-4757-b280-076b0dd0bff1",
   "metadata": {},
   "outputs": [],
   "source": [
    "import requests\n",
    "import pandas as pd\n",
    "import numpy as np\n",
    "import matplotlib.pyplot as plt\n",
    "import seaborn as sns\n",
    "import folium\n",
    "from IPython.display import display\n",
    "from folium import Map, Marker\n",
    "from folium.plugins import HeatMap\n",
    "from datetime import datetime\n"
   ]
  },
  {
   "cell_type": "markdown",
   "id": "5912043d-c7eb-4ac1-9d8d-1a1901c8e863",
   "metadata": {},
   "source": [
    "1. Register and obtain API key from OpenWeatherMap. "
   ]
  },
  {
   "cell_type": "code",
   "execution_count": 2,
   "id": "378c35cf-72bf-47e4-b8b1-3995055ed1af",
   "metadata": {},
   "outputs": [],
   "source": [
    "# Step 1: Define API key and list of cities\n",
    "api_key = 'b7e6906ae46d00d1ec3d4cefd80b2f76'\n",
    "cities = [\"Pune\", \"Delhi\", \"Mumbai\", \"Sydney\"]"
   ]
  },
  {
   "cell_type": "markdown",
   "id": "0c38fe7c-cbf3-4087-974b-90c2771d475e",
   "metadata": {},
   "source": [
    "3. Extract relevant weather attributes such as temperature, humidity, wind speed, and \n",
    "precipitation from the API response. "
   ]
  },
  {
   "cell_type": "code",
   "execution_count": 3,
   "id": "b9a53ad5-4a25-467f-a70f-6582a047fecb",
   "metadata": {},
   "outputs": [
    {
     "name": "stderr",
     "output_type": "stream",
     "text": [
      "C:\\Users\\admin\\AppData\\Local\\Temp\\ipykernel_21784\\1152322703.py:12: DeprecationWarning: datetime.datetime.utcfromtimestamp() is deprecated and scheduled for removal in a future version. Use timezone-aware objects to represent datetimes in UTC: datetime.datetime.fromtimestamp(timestamp, datetime.UTC).\n",
      "  date_time = datetime.utcfromtimestamp(data['dt']).strftime('%Y-%m-%d %H:%M:%S')\n"
     ]
    },
    {
     "data": {
      "text/html": [
       "<div>\n",
       "<style scoped>\n",
       "    .dataframe tbody tr th:only-of-type {\n",
       "        vertical-align: middle;\n",
       "    }\n",
       "\n",
       "    .dataframe tbody tr th {\n",
       "        vertical-align: top;\n",
       "    }\n",
       "\n",
       "    .dataframe thead th {\n",
       "        text-align: right;\n",
       "    }\n",
       "</style>\n",
       "<table border=\"1\" class=\"dataframe\">\n",
       "  <thead>\n",
       "    <tr style=\"text-align: right;\">\n",
       "      <th></th>\n",
       "      <th>City</th>\n",
       "      <th>Temperature (K)</th>\n",
       "      <th>Humidity (%)</th>\n",
       "      <th>Wind Speed (m/s)</th>\n",
       "      <th>Weather Description</th>\n",
       "      <th>Precipitation (mm)</th>\n",
       "      <th>Latitude</th>\n",
       "      <th>Longitude</th>\n",
       "      <th>Date Time</th>\n",
       "      <th>Pressure (hPa)</th>\n",
       "      <th>Temperature (°C)</th>\n",
       "    </tr>\n",
       "  </thead>\n",
       "  <tbody>\n",
       "    <tr>\n",
       "      <th>0</th>\n",
       "      <td>Pune</td>\n",
       "      <td>298.64</td>\n",
       "      <td>47</td>\n",
       "      <td>0.64</td>\n",
       "      <td>scattered clouds</td>\n",
       "      <td>0</td>\n",
       "      <td>18.5196</td>\n",
       "      <td>73.8553</td>\n",
       "      <td>2024-11-04 15:52:22</td>\n",
       "      <td>1013</td>\n",
       "      <td>25.49</td>\n",
       "    </tr>\n",
       "    <tr>\n",
       "      <th>1</th>\n",
       "      <td>Delhi</td>\n",
       "      <td>297.20</td>\n",
       "      <td>64</td>\n",
       "      <td>0.00</td>\n",
       "      <td>haze</td>\n",
       "      <td>0</td>\n",
       "      <td>28.6667</td>\n",
       "      <td>77.2167</td>\n",
       "      <td>2024-11-04 15:50:58</td>\n",
       "      <td>1013</td>\n",
       "      <td>24.05</td>\n",
       "    </tr>\n",
       "    <tr>\n",
       "      <th>2</th>\n",
       "      <td>Mumbai</td>\n",
       "      <td>303.14</td>\n",
       "      <td>58</td>\n",
       "      <td>3.09</td>\n",
       "      <td>haze</td>\n",
       "      <td>0</td>\n",
       "      <td>19.0144</td>\n",
       "      <td>72.8479</td>\n",
       "      <td>2024-11-04 15:48:10</td>\n",
       "      <td>1012</td>\n",
       "      <td>29.99</td>\n",
       "    </tr>\n",
       "    <tr>\n",
       "      <th>3</th>\n",
       "      <td>Sydney</td>\n",
       "      <td>291.17</td>\n",
       "      <td>81</td>\n",
       "      <td>5.14</td>\n",
       "      <td>overcast clouds</td>\n",
       "      <td>0</td>\n",
       "      <td>-33.8679</td>\n",
       "      <td>151.2073</td>\n",
       "      <td>2024-11-04 15:47:27</td>\n",
       "      <td>1016</td>\n",
       "      <td>18.02</td>\n",
       "    </tr>\n",
       "  </tbody>\n",
       "</table>\n",
       "</div>"
      ],
      "text/plain": [
       "     City  Temperature (K)  Humidity (%)  Wind Speed (m/s)  \\\n",
       "0    Pune           298.64            47              0.64   \n",
       "1   Delhi           297.20            64              0.00   \n",
       "2  Mumbai           303.14            58              3.09   \n",
       "3  Sydney           291.17            81              5.14   \n",
       "\n",
       "  Weather Description  Precipitation (mm)  Latitude  Longitude  \\\n",
       "0    scattered clouds                   0   18.5196    73.8553   \n",
       "1                haze                   0   28.6667    77.2167   \n",
       "2                haze                   0   19.0144    72.8479   \n",
       "3     overcast clouds                   0  -33.8679   151.2073   \n",
       "\n",
       "             Date Time  Pressure (hPa)  Temperature (°C)  \n",
       "0  2024-11-04 15:52:22            1013             25.49  \n",
       "1  2024-11-04 15:50:58            1013             24.05  \n",
       "2  2024-11-04 15:48:10            1012             29.99  \n",
       "3  2024-11-04 15:47:27            1016             18.02  "
      ]
     },
     "execution_count": 3,
     "metadata": {},
     "output_type": "execute_result"
    }
   ],
   "source": [
    "\n",
    "# Initialize an empty list to store data for each city\n",
    "weather_data_list = []\n",
    "\n",
    "# Step 3: Loop through each city to fetch and process data\n",
    "for city in cities:\n",
    "    url = f\"http://api.openweathermap.org/data/2.5/weather?q={city}&appid={api_key}\"\n",
    "    response = requests.get(url)\n",
    "    data = response.json()\n",
    "    \n",
    "    # Check if data retrieval was successful\n",
    "    if response.status_code == 200 and 'main' in data:\n",
    "        date_time = datetime.utcfromtimestamp(data['dt']).strftime('%Y-%m-%d %H:%M:%S')\n",
    "# Structure data for the city, including weather description and precipitation\n",
    "        city_weather_data = {\n",
    "            'City': data['name'],\n",
    "            'Temperature (K)': data['main']['temp'],  # Temperature in Kelvin\n",
    "            'Humidity (%)': data['main']['humidity'],  # Humidity in percentage\n",
    "            'Wind Speed (m/s)': data['wind']['speed'],  # Wind speed in m/s\n",
    "            'Weather Description': data['weather'][0]['description'],  # Weather condition\n",
    "            'Precipitation (mm)': data.get('rain', {}).get('1h', 0),  # Precipitation in mm (last hour)\n",
    "            'Latitude': data['coord']['lat'],  # Latitude of the city\n",
    "            'Longitude': data['coord']['lon'],  # Longitude of the city\n",
    "            'Date Time': date_time  # Add date_time to the data structure\n",
    "        }\n",
    "        \n",
    "        if 'pressure' in data['main']:\n",
    "            city_weather_data['Pressure (hPa)'] = data['main']['pressure']  # Atmospheric pressure\n",
    "        \n",
    "        # Append the structured data to the list\n",
    "        weather_data_list.append(city_weather_data)\n",
    "    else:\n",
    "        print(f\"Could not retrieve data for {city}. Response: {data}\")\n",
    "# Convert the list of dictionaries to a DataFrame\n",
    "weather_df = pd.DataFrame(weather_data_list)\n",
    "# Convert temperature from Kelvin to Celsius (if you haven't done this yet)\n",
    "if 'Temperature (K)' in weather_df.columns:\n",
    "    weather_df['Temperature (°C)'] = weather_df['Temperature (K)'] - 273.15\n",
    "\n",
    "\n",
    "\n",
    "# Display the DataFrame\n",
    "weather_df.head()\n",
    "\n"
   ]
  },
  {
   "cell_type": "markdown",
   "id": "c3da2411-13f8-4817-b03c-e73994148591",
   "metadata": {},
   "source": [
    "4. Clean and preprocess the retrieved data, handling missing values or inconsistent \n",
    "formats."
   ]
  },
  {
   "cell_type": "code",
   "execution_count": 4,
   "id": "63ffd47d-101c-4db9-9c1b-4e52fffacba0",
   "metadata": {},
   "outputs": [
    {
     "name": "stdout",
     "output_type": "stream",
     "text": [
      "Missing Values Count:\n",
      " City                   0\n",
      "Temperature (K)        0\n",
      "Humidity (%)           0\n",
      "Wind Speed (m/s)       0\n",
      "Weather Description    0\n",
      "Precipitation (mm)     0\n",
      "Latitude               0\n",
      "Longitude              0\n",
      "Date Time              0\n",
      "Pressure (hPa)         0\n",
      "Temperature (°C)       0\n",
      "dtype: int64\n",
      "\n",
      "DataFrame Info:\n",
      "<class 'pandas.core.frame.DataFrame'>\n",
      "RangeIndex: 4 entries, 0 to 3\n",
      "Data columns (total 11 columns):\n",
      " #   Column               Non-Null Count  Dtype  \n",
      "---  ------               --------------  -----  \n",
      " 0   City                 4 non-null      object \n",
      " 1   Temperature (K)      4 non-null      float64\n",
      " 2   Humidity (%)         4 non-null      int64  \n",
      " 3   Wind Speed (m/s)     4 non-null      float64\n",
      " 4   Weather Description  4 non-null      object \n",
      " 5   Precipitation (mm)   4 non-null      int64  \n",
      " 6   Latitude             4 non-null      float64\n",
      " 7   Longitude            4 non-null      float64\n",
      " 8   Date Time            4 non-null      object \n",
      " 9   Pressure (hPa)       4 non-null      int64  \n",
      " 10  Temperature (°C)     4 non-null      float64\n",
      "dtypes: float64(5), int64(3), object(3)\n",
      "memory usage: 484.0+ bytes\n"
     ]
    }
   ],
   "source": [
    "# Display the count of missing values in each column\n",
    "missing_values = weather_df.isnull().sum()\n",
    "print(\"Missing Values Count:\\n\", missing_values)\n",
    "\n",
    "# Display the summary of the DataFrame\n",
    "print(\"\\nDataFrame Info:\")\n",
    "weather_df.info()\n"
   ]
  },
  {
   "cell_type": "code",
   "execution_count": 5,
   "id": "1c4e0d13-be60-4947-a17d-2f04cb670955",
   "metadata": {},
   "outputs": [
    {
     "name": "stdout",
     "output_type": "stream",
     "text": [
      "Cleaned Weather Data:\n",
      "     City  Temperature (K)  Humidity (%)  Wind Speed (m/s)  \\\n",
      "0    Pune           298.64            47              0.64   \n",
      "1   Delhi           297.20            64              0.00   \n",
      "2  Mumbai           303.14            58              3.09   \n",
      "3  Sydney           291.17            81              5.14   \n",
      "\n",
      "  Weather Description  Precipitation (mm)  Latitude  Longitude  \\\n",
      "0    scattered clouds                   0   18.5196    73.8553   \n",
      "1                haze                   0   28.6667    77.2167   \n",
      "2                haze                   0   19.0144    72.8479   \n",
      "3     overcast clouds                   0  -33.8679   151.2073   \n",
      "\n",
      "             Date Time  Pressure (hPa)  Temperature (°C)  \n",
      "0  2024-11-04 15:52:22            1013             25.49  \n",
      "1  2024-11-04 15:50:58            1013             24.05  \n",
      "2  2024-11-04 15:48:10            1012             29.99  \n",
      "3  2024-11-04 15:47:27            1016             18.02  \n"
     ]
    }
   ],
   "source": [
    "# Clean and preprocess the retrieved data\n",
    "weather_df.fillna({\n",
    "    'Temperature (K)': np.nan,  # Temperature can remain NaN if missing\n",
    "    'Humidity (%)': weather_df['Humidity (%)'].median() if 'Humidity (%)' in weather_df else np.nan,\n",
    "    'Wind Speed (m/s)': weather_df['Wind Speed (m/s)'].median() if 'Wind Speed (m/s)' in weather_df else np.nan,\n",
    "    'Precipitation (mm)': 0,  # Replace NaN with 0 for precipitation\n",
    "    'Pressure (hPa)': weather_df['Pressure (hPa)'].median() if 'Pressure (hPa)' in weather_df.columns else np.nan\n",
    "}, inplace=True)\n",
    "\n",
    "if 'Temperature (K)' in weather_df.columns:\n",
    "    weather_df['Temperature (°C)'] = weather_df['Temperature (K)'] - 273.15\n",
    "# Display the cleaned DataFrame\n",
    "print(\"Cleaned Weather Data:\")\n",
    "print(weather_df.head())"
   ]
  },
  {
   "cell_type": "markdown",
   "id": "66829136-6e99-42d4-8627-859517af8c4f",
   "metadata": {},
   "source": [
    "5. Perform data modeling to analyze weather patterns, such as calculating average \n",
    "temperature, maximum/minimum values, or trends over time. "
   ]
  },
  {
   "cell_type": "code",
   "execution_count": 6,
   "id": "fc18e674-85a3-49d7-beb2-117763d8eaff",
   "metadata": {},
   "outputs": [
    {
     "name": "stdout",
     "output_type": "stream",
     "text": [
      "     City  Temperature (K)  Humidity (%)  Wind Speed (m/s)  \\\n",
      "0    Pune           298.64            47              0.64   \n",
      "1   Delhi           297.20            64              0.00   \n",
      "2  Mumbai           303.14            58              3.09   \n",
      "3  Sydney           291.17            81              5.14   \n",
      "\n",
      "  Weather Description  Precipitation (mm)  Latitude  Longitude  \\\n",
      "0    scattered clouds                   0   18.5196    73.8553   \n",
      "1                haze                   0   28.6667    77.2167   \n",
      "2                haze                   0   19.0144    72.8479   \n",
      "3     overcast clouds                   0  -33.8679   151.2073   \n",
      "\n",
      "             Date Time  Pressure (hPa)  Temperature (°C)  \n",
      "0  2024-11-04 15:52:22            1013             25.49  \n",
      "1  2024-11-04 15:50:58            1013             24.05  \n",
      "2  2024-11-04 15:48:10            1012             29.99  \n",
      "3  2024-11-04 15:47:27            1016             18.02  \n"
     ]
    }
   ],
   "source": [
    "# Handle missing values in numeric columns only\n",
    "numeric_cols = weather_df.select_dtypes(include='number').columns\n",
    "weather_df[numeric_cols] = weather_df[numeric_cols].fillna(weather_df[numeric_cols].median())\n",
    "# Display the DataFrame to check missing values are handled\n",
    "print(weather_df.head())\n"
   ]
  },
  {
   "cell_type": "code",
   "execution_count": 7,
   "id": "8a01098b-5f30-4185-91d6-e758dc61a9f7",
   "metadata": {},
   "outputs": [
    {
     "name": "stdout",
     "output_type": "stream",
     "text": [
      "Summary Statistics:\n",
      "       Temperature (°C)               Humidity (%) Wind Speed (m/s)  \\\n",
      "                   mean    max    min         mean             mean   \n",
      "City                                                                  \n",
      "Delhi             24.05  24.05  24.05         64.0             0.00   \n",
      "Mumbai            29.99  29.99  29.99         58.0             3.09   \n",
      "Pune              25.49  25.49  25.49         47.0             0.64   \n",
      "Sydney            18.02  18.02  18.02         81.0             5.14   \n",
      "\n",
      "       Pressure (hPa)  \n",
      "                 mean  \n",
      "City                   \n",
      "Delhi          1013.0  \n",
      "Mumbai         1012.0  \n",
      "Pune           1013.0  \n",
      "Sydney         1016.0  \n"
     ]
    }
   ],
   "source": [
    "#  Check if data exists and aggregate by city\n",
    "if 'Temperature (K)' in weather_df.columns:\n",
    "        weather_df['Temperature (°C)'] = weather_df['Temperature (K)'] - 273.15\n",
    "if not weather_df.empty:\n",
    "    aggregation_dict = {\n",
    "        'Temperature (°C)': ['mean', 'max', 'min'],\n",
    "        'Humidity (%)': 'mean',\n",
    "        'Wind Speed (m/s)': 'mean'\n",
    "    }\n",
    "    if 'Pressure (hPa)' in weather_df.columns:\n",
    "        aggregation_dict['Pressure (hPa)'] = 'mean'\n",
    "    \n",
    "    \n",
    "    # Group by 'City' and calculate summary statistics\n",
    "    summary_stats = weather_df.groupby('City').agg(aggregation_dict)\n",
    "    print(\"Summary Statistics:\")\n",
    "    print(summary_stats)\n",
    "else:\n",
    "    print(\"No data available for aggregation.\")"
   ]
  },
  {
   "cell_type": "markdown",
   "id": "79d7d6aa-8e24-4927-9dda-034f4f1a268b",
   "metadata": {},
   "source": [
    "6. Visualize the weather data using appropriate plots, such as line charts, bar plots, or \n",
    "scatter plots, to represent temperature changes, precipitation levels, or wind speed \n",
    "variations."
   ]
  },
  {
   "cell_type": "code",
   "execution_count": 8,
   "id": "6dc7b866-587d-4eee-b1dd-76b8ee70eac5",
   "metadata": {},
   "outputs": [
    {
     "data": {
      "image/png": "[encoded data removed]",
      "text/plain": [
       "<Figure size 1000x500 with 1 Axes>"
      ]
     },
     "metadata": {},
     "output_type": "display_data"
    },
    {
     "data": {
      "image/png": "[encoded data removed]",
      "text/plain": [
       "<Figure size 1000x500 with 1 Axes>"
      ]
     },
     "metadata": {},
     "output_type": "display_data"
    }
   ],
   "source": [
    "# Step 8: Visualization - Scatterplot of Temperature over Time (example data setup)\n",
    "# Create a sample Date Time column for demonstration purposes\n",
    "weather_df['Date Time'] = pd.date_range(start=\"2024-01-01\", periods=len(weather_df), freq='h')\n",
    "plt.figure(figsize=(10, 5))\n",
    "sns.scatterplot(x=weather_df['Date Time'], y=weather_df['Temperature (°C)'], hue=weather_df['City'])\n",
    "plt.xticks(rotation=90)\n",
    "plt.title(\"Temperature Variation Over Time\")\n",
    "plt.show()\n",
    "\n",
    "# Plot Temperature over Time as a Line Plot\n",
    "plt.figure(figsize=(10, 5))\n",
    "plt.plot(weather_df['Date Time'], weather_df['Temperature (°C)'])\n",
    "plt.xticks(rotation=90)\n",
    "plt.title(\"Temperature Over Time\")\n",
    "plt.show()"
   ]
  },
  {
   "cell_type": "code",
   "execution_count": 9,
   "id": "b2948a28-c42f-4090-912d-a4f2d1efa186",
   "metadata": {},
   "outputs": [
    {
     "data": {
      "image/png": "[encoded data removed]",
      "text/plain": [
       "<Figure size 1000x600 with 1 Axes>"
      ]
     },
     "metadata": {},
     "output_type": "display_data"
    }
   ],
   "source": [
    "# Step 9: Visualize the Weather Data for all cities\n",
    "plt.figure(figsize=(10, 6))\n",
    "sns.barplot(x='City', y='Temperature (°C)', data=weather_df, palette='coolwarm', hue='City', legend=False)\n",
    "plt.title('Temperature in Different Cities')\n",
    "plt.show()"
   ]
  },
  {
   "cell_type": "markdown",
   "id": "c576b8c9-9dc8-4d1c-96b7-0281ddc78238",
   "metadata": {},
   "source": [
    "7. Apply data aggregation techniques to summarize weather statistics by specific time \n",
    "periods (e.g., daily, monthly, seasonal)."
   ]
  },
  {
   "cell_type": "code",
   "execution_count": 10,
   "id": "a6c6d75c-22ed-47e6-9761-0807406952ae",
   "metadata": {},
   "outputs": [
    {
     "name": "stdout",
     "output_type": "stream",
     "text": [
      "         Date  Temperature (°C)  Wind Speed (m/s)\n",
      "0  2024-01-01           24.3875            2.2175\n"
     ]
    }
   ],
   "source": [
    "\n",
    "#daily\n",
    "# Ensure 'Date Time' is in datetime format (this was done previously)\n",
    "weather_df['Date Time'] = pd.to_datetime(weather_df['Date Time'], errors='coerce')\n",
    "\n",
    "# Create a 'Date' column from 'Date Time'\n",
    "weather_df['Date'] = weather_df['Date Time'].dt.date\n",
    "\n",
    "# Group by 'Date' and aggregate mean for 'Temperature' and 'Wind Speed'\n",
    "daily_agg = weather_df.groupby('Date').agg({\n",
    "    'Temperature (°C)': 'mean',\n",
    "    'Wind Speed (m/s)': 'mean'\n",
    "}).reset_index()\n",
    "\n",
    "# Display the aggregated daily data\n",
    "print(daily_agg)\n"
   ]
  },
  {
   "cell_type": "code",
   "execution_count": 11,
   "id": "6076ed68-4427-488a-a2c0-977512363e18",
   "metadata": {},
   "outputs": [
    {
     "name": "stdout",
     "output_type": "stream",
     "text": [
      "     Month  Temperature (°C)  Wind Speed (m/s)\n",
      "0  2024-01           24.3875            2.2175\n"
     ]
    }
   ],
   "source": [
    "#monthly\n",
    "# Create a 'Month' column from 'Date Time'\n",
    "weather_df['Month'] = weather_df['Date Time'].dt.to_period('M')\n",
    "\n",
    "# Group by 'Month' and aggregate mean for 'Temperature (°C)' and 'Wind Speed (m/s)'\n",
    "monthly_agg = weather_df.groupby('Month').agg({\n",
    "    'Temperature (°C)': 'mean',\n",
    "    'Wind Speed (m/s)': 'mean'\n",
    "}).reset_index()\n",
    "\n",
    "# Display the aggregated monthly data\n",
    "print(monthly_agg)\n"
   ]
  },
  {
   "cell_type": "code",
   "execution_count": 16,
   "id": "997530d5-a11e-4f51-9bb9-8449ed8e6e81",
   "metadata": {},
   "outputs": [
    {
     "name": "stdout",
     "output_type": "stream",
     "text": [
      "   Year  Temperature (°C)  Wind Speed (m/s)\n",
      "0  2024           24.3875            2.2175\n"
     ]
    }
   ],
   "source": [
    "#yearly\n",
    "# Create a 'Year' column from 'Date Time'\n",
    "weather_df['Year'] = weather_df['Date Time'].dt.to_period('Y')\n",
    "\n",
    "# Group by 'Year' and aggregate mean for 'Temperature (°C)' and 'Wind Speed (m/s)'\n",
    "yearly_agg = weather_df.groupby('Year').agg({\n",
    "    'Temperature (°C)': 'mean',\n",
    "    'Wind Speed (m/s)': 'mean'\n",
    "}).reset_index()\n",
    "\n",
    "# Display the aggregated yearly data\n",
    "print(yearly_agg)\n"
   ]
  },
  {
   "cell_type": "code",
   "execution_count": 17,
   "id": "303b8abf-0046-40fb-9f02-244f70841ba9",
   "metadata": {},
   "outputs": [
    {
     "name": "stdout",
     "output_type": "stream",
     "text": [
      "Daily Aggregated Data by City:\n",
      "     City           Date Time Temperature (°C)               Wind Speed (m/s)  \\\n",
      "                                          mean    max    min             mean   \n",
      "0   Delhi 2024-01-01 01:00:00            24.05  24.05  24.05             0.00   \n",
      "1  Mumbai 2024-01-01 02:00:00            29.99  29.99  29.99             3.09   \n",
      "2    Pune 2024-01-01 00:00:00            25.49  25.49  25.49             0.64   \n",
      "3  Sydney 2024-01-01 03:00:00            18.02  18.02  18.02             5.14   \n",
      "\n",
      "               \n",
      "    max   min  \n",
      "0  0.00  0.00  \n",
      "1  3.09  3.09  \n",
      "2  0.64  0.64  \n",
      "3  5.14  5.14  \n",
      "Monthly Aggregated Data by City:\n",
      "     City    Month Temperature (°C)               Wind Speed (m/s)            \n",
      "                               mean    max    min             mean   max   min\n",
      "0   Delhi  2024-01            24.05  24.05  24.05             0.00  0.00  0.00\n",
      "1  Mumbai  2024-01            29.99  29.99  29.99             3.09  3.09  3.09\n",
      "2    Pune  2024-01            25.49  25.49  25.49             0.64  0.64  0.64\n",
      "3  Sydney  2024-01            18.02  18.02  18.02             5.14  5.14  5.14\n",
      "Yearly Aggregated Data by City:\n",
      "     City  Year Temperature (°C)               Wind Speed (m/s)            \n",
      "                            mean    max    min             mean   max   min\n",
      "0   Delhi  2024            24.05  24.05  24.05             0.00  0.00  0.00\n",
      "1  Mumbai  2024            29.99  29.99  29.99             3.09  3.09  3.09\n",
      "2    Pune  2024            25.49  25.49  25.49             0.64  0.64  0.64\n",
      "3  Sydney  2024            18.02  18.02  18.02             5.14  5.14  5.14\n"
     ]
    }
   ],
   "source": [
    "# Assuming df_weather is your DataFrame containing the provided columns\n",
    "\n",
    "# Daily Aggregation by City\n",
    "daily_agg_city = weather_df.groupby(['City', 'Date Time']).agg({\n",
    "    'Temperature (°C)': ['mean', 'max', 'min'],\n",
    "    'Wind Speed (m/s)': ['mean', 'max', 'min']\n",
    "}).reset_index()\n",
    "\n",
    "# Display the aggregated daily data by city\n",
    "print(\"Daily Aggregated Data by City:\")\n",
    "print(daily_agg_city)\n",
    "\n",
    "# Monthly Aggregation by City\n",
    "monthly_agg_city = weather_df.groupby(['City', 'Month']).agg({\n",
    "    'Temperature (°C)': ['mean', 'max', 'min'],\n",
    "    'Wind Speed (m/s)': ['mean', 'max', 'min']\n",
    "}).reset_index()\n",
    "\n",
    "# Display the aggregated monthly data by city\n",
    "print(\"Monthly Aggregated Data by City:\")\n",
    "print(monthly_agg_city)\n",
    "\n",
    "# Yearly Aggregation by City\n",
    "yearly_agg_city = weather_df.groupby(['City', 'Year']).agg({\n",
    "    'Temperature (°C)': ['mean', 'max', 'min'],\n",
    "    'Wind Speed (m/s)': ['mean', 'max', 'min']\n",
    "}).reset_index()\n",
    "\n",
    "# Display the aggregated yearly data by city\n",
    "print(\"Yearly Aggregated Data by City:\")\n",
    "print(yearly_agg_city)\n"
   ]
  },
  {
   "cell_type": "markdown",
   "id": "0cb2cc90-19f7-4360-bc93-9045089aac46",
   "metadata": {},
   "source": [
    "8. Incorporate geographical information, if available, to create maps or geospatial \n",
    "visualizations representing weather patterns across different locations. "
   ]
  },
  {
   "cell_type": "code",
   "execution_count": 18,
   "id": "e7976e90-bb8b-4044-a579-765556f57242",
   "metadata": {},
   "outputs": [
    {
     "data": {
      "text/html": [
       "<div style=\"width:100%;\"><div style=\"position:relative;width:100%;height:0;padding-bottom:60%;\"><span style=\"color:#565656\">Make this Notebook Trusted to load map: File -> Trust Notebook</span><iframe srcdoc=\"&lt;!DOCTYPE html&gt;\n",
       "&lt;html&gt;\n",
       "&lt;head&gt;\n",
       "    \n",
       "    &lt;meta http-equiv=&quot;content-type&quot; content=&quot;text/html; charset=UTF-8&quot; /&gt;\n",
       "    \n",
       "        &lt;script&gt;\n",
       "            L_NO_TOUCH = false;\n",
       "            L_DISABLE_3D = false;\n",
       "        &lt;/script&gt;\n",
       "    \n",
       "    &lt;style&gt;html, body {width: 100%;height: 100%;margin: 0;padding: 0;}&lt;/style&gt;\n",
       "    &lt;style&gt;#map {position:absolute;top:0;bottom:0;right:0;left:0;}&lt;/style&gt;\n",
       "    &lt;script src=&quot;https://cdn.jsdelivr.net/npm/leaflet@1.9.3/dist/leaflet.js&quot;&gt;&lt;/script&gt;\n",
       "    &lt;script src=&quot;https://code.jquery.com/jquery-3.7.1.min.js&quot;&gt;&lt;/script&gt;\n",
       "    &lt;script src=&quot;https://cdn.jsdelivr.net/npm/bootstrap@5.2.2/dist/js/bootstrap.bundle.min.js&quot;&gt;&lt;/script&gt;\n",
       "    &lt;script src=&quot;https://cdnjs.cloudflare.com/ajax/libs/Leaflet.awesome-markers/2.0.2/leaflet.awesome-markers.js&quot;&gt;&lt;/script&gt;\n",
       "    &lt;link rel=&quot;stylesheet&quot; href=&quot;https://cdn.jsdelivr.net/npm/leaflet@1.9.3/dist/leaflet.css&quot;/&gt;\n",
       "    &lt;link rel=&quot;stylesheet&quot; href=&quot;https://cdn.jsdelivr.net/npm/bootstrap@5.2.2/dist/css/bootstrap.min.css&quot;/&gt;\n",
       "    &lt;link rel=&quot;stylesheet&quot; href=&quot;https://netdna.bootstrapcdn.com/bootstrap/3.0.0/css/bootstrap-glyphicons.css&quot;/&gt;\n",
       "    &lt;link rel=&quot;stylesheet&quot; href=&quot;https://cdn.jsdelivr.net/npm/@fortawesome/fontawesome-free@6.2.0/css/all.min.css&quot;/&gt;\n",
       "    &lt;link rel=&quot;stylesheet&quot; href=&quot;https://cdnjs.cloudflare.com/ajax/libs/Leaflet.awesome-markers/2.0.2/leaflet.awesome-markers.css&quot;/&gt;\n",
       "    &lt;link rel=&quot;stylesheet&quot; href=&quot;https://cdn.jsdelivr.net/gh/python-visualization/folium/folium/templates/leaflet.awesome.rotate.min.css&quot;/&gt;\n",
       "    \n",
       "            &lt;meta name=&quot;viewport&quot; content=&quot;width=device-width,\n",
       "                initial-scale=1.0, maximum-scale=1.0, user-scalable=no&quot; /&gt;\n",
       "            &lt;style&gt;\n",
       "                #map_56feec49b9634bfe577730cb3829e34b {\n",
       "                    position: relative;\n",
       "                    width: 100.0%;\n",
       "                    height: 100.0%;\n",
       "                    left: 0.0%;\n",
       "                    top: 0.0%;\n",
       "                }\n",
       "                .leaflet-container { font-size: 1rem; }\n",
       "            &lt;/style&gt;\n",
       "        \n",
       "&lt;/head&gt;\n",
       "&lt;body&gt;\n",
       "    \n",
       "    \n",
       "            &lt;div class=&quot;folium-map&quot; id=&quot;map_56feec49b9634bfe577730cb3829e34b&quot; &gt;&lt;/div&gt;\n",
       "        \n",
       "&lt;/body&gt;\n",
       "&lt;script&gt;\n",
       "    \n",
       "    \n",
       "            var map_56feec49b9634bfe577730cb3829e34b = L.map(\n",
       "                &quot;map_56feec49b9634bfe577730cb3829e34b&quot;,\n",
       "                {\n",
       "                    center: [0.0, 0.0],\n",
       "                    crs: L.CRS.EPSG3857,\n",
       "                    zoom: 2,\n",
       "                    zoomControl: true,\n",
       "                    preferCanvas: false,\n",
       "                }\n",
       "            );\n",
       "\n",
       "            \n",
       "\n",
       "        \n",
       "    \n",
       "            var tile_layer_b9413c5c66974710881ed3bcb37de51d = L.tileLayer(\n",
       "                &quot;https://tile.openstreetmap.org/{z}/{x}/{y}.png&quot;,\n",
       "                {&quot;attribution&quot;: &quot;\\u0026copy; \\u003ca href=\\&quot;https://www.openstreetmap.org/copyright\\&quot;\\u003eOpenStreetMap\\u003c/a\\u003e contributors&quot;, &quot;detectRetina&quot;: false, &quot;maxNativeZoom&quot;: 19, &quot;maxZoom&quot;: 19, &quot;minZoom&quot;: 0, &quot;noWrap&quot;: false, &quot;opacity&quot;: 1, &quot;subdomains&quot;: &quot;abc&quot;, &quot;tms&quot;: false}\n",
       "            );\n",
       "        \n",
       "    \n",
       "            tile_layer_b9413c5c66974710881ed3bcb37de51d.addTo(map_56feec49b9634bfe577730cb3829e34b);\n",
       "        \n",
       "    \n",
       "            var marker_04851cd004cf97f9ba6c42718438ea31 = L.marker(\n",
       "                [18.5196, 73.8553],\n",
       "                {}\n",
       "            ).addTo(map_56feec49b9634bfe577730cb3829e34b);\n",
       "        \n",
       "    \n",
       "        var popup_2f8797cdae4c7a090dfe4d719904f0be = L.popup({&quot;maxWidth&quot;: &quot;100%&quot;});\n",
       "\n",
       "        \n",
       "            \n",
       "                var html_9f3d07b590631ccd0a2e155e438ad630 = $(`&lt;div id=&quot;html_9f3d07b590631ccd0a2e155e438ad630&quot; style=&quot;width: 100.0%; height: 100.0%;&quot;&gt;Pune&lt;br&gt;Temperature: 25.49 °C&lt;br&gt;Humidity: 47%&lt;br&gt;Wind Speed: 0.64 m/s&lt;/div&gt;`)[0];\n",
       "                popup_2f8797cdae4c7a090dfe4d719904f0be.setContent(html_9f3d07b590631ccd0a2e155e438ad630);\n",
       "            \n",
       "        \n",
       "\n",
       "        marker_04851cd004cf97f9ba6c42718438ea31.bindPopup(popup_2f8797cdae4c7a090dfe4d719904f0be)\n",
       "        ;\n",
       "\n",
       "        \n",
       "    \n",
       "    \n",
       "            var marker_8659dccdca9124b49ce425ccd1f7ce38 = L.marker(\n",
       "                [28.6667, 77.2167],\n",
       "                {}\n",
       "            ).addTo(map_56feec49b9634bfe577730cb3829e34b);\n",
       "        \n",
       "    \n",
       "        var popup_1eb2128a53fd905b25f8a3796e4b2cec = L.popup({&quot;maxWidth&quot;: &quot;100%&quot;});\n",
       "\n",
       "        \n",
       "            \n",
       "                var html_130d7a04e66d9a97565bb8193d63af72 = $(`&lt;div id=&quot;html_130d7a04e66d9a97565bb8193d63af72&quot; style=&quot;width: 100.0%; height: 100.0%;&quot;&gt;Delhi&lt;br&gt;Temperature: 24.05 °C&lt;br&gt;Humidity: 64%&lt;br&gt;Wind Speed: 0.0 m/s&lt;/div&gt;`)[0];\n",
       "                popup_1eb2128a53fd905b25f8a3796e4b2cec.setContent(html_130d7a04e66d9a97565bb8193d63af72);\n",
       "            \n",
       "        \n",
       "\n",
       "        marker_8659dccdca9124b49ce425ccd1f7ce38.bindPopup(popup_1eb2128a53fd905b25f8a3796e4b2cec)\n",
       "        ;\n",
       "\n",
       "        \n",
       "    \n",
       "    \n",
       "            var marker_47b9a66b65df89dcd582f2db893a0327 = L.marker(\n",
       "                [19.0144, 72.8479],\n",
       "                {}\n",
       "            ).addTo(map_56feec49b9634bfe577730cb3829e34b);\n",
       "        \n",
       "    \n",
       "        var popup_1a9224503a9202a36079d84a3418dd7d = L.popup({&quot;maxWidth&quot;: &quot;100%&quot;});\n",
       "\n",
       "        \n",
       "            \n",
       "                var html_95ac7eb55b9976c3ab17bd33a599ba66 = $(`&lt;div id=&quot;html_95ac7eb55b9976c3ab17bd33a599ba66&quot; style=&quot;width: 100.0%; height: 100.0%;&quot;&gt;Mumbai&lt;br&gt;Temperature: 29.99 °C&lt;br&gt;Humidity: 58%&lt;br&gt;Wind Speed: 3.09 m/s&lt;/div&gt;`)[0];\n",
       "                popup_1a9224503a9202a36079d84a3418dd7d.setContent(html_95ac7eb55b9976c3ab17bd33a599ba66);\n",
       "            \n",
       "        \n",
       "\n",
       "        marker_47b9a66b65df89dcd582f2db893a0327.bindPopup(popup_1a9224503a9202a36079d84a3418dd7d)\n",
       "        ;\n",
       "\n",
       "        \n",
       "    \n",
       "    \n",
       "            var marker_e075d2e3ec501541daa6cbb13eeec0ab = L.marker(\n",
       "                [-33.8679, 151.2073],\n",
       "                {}\n",
       "            ).addTo(map_56feec49b9634bfe577730cb3829e34b);\n",
       "        \n",
       "    \n",
       "        var popup_961d41e7c16793b352a13c78938528ea = L.popup({&quot;maxWidth&quot;: &quot;100%&quot;});\n",
       "\n",
       "        \n",
       "            \n",
       "                var html_1cd92c59e4aad1cf31e64759599fb39d = $(`&lt;div id=&quot;html_1cd92c59e4aad1cf31e64759599fb39d&quot; style=&quot;width: 100.0%; height: 100.0%;&quot;&gt;Sydney&lt;br&gt;Temperature: 18.02 °C&lt;br&gt;Humidity: 81%&lt;br&gt;Wind Speed: 5.14 m/s&lt;/div&gt;`)[0];\n",
       "                popup_961d41e7c16793b352a13c78938528ea.setContent(html_1cd92c59e4aad1cf31e64759599fb39d);\n",
       "            \n",
       "        \n",
       "\n",
       "        marker_e075d2e3ec501541daa6cbb13eeec0ab.bindPopup(popup_961d41e7c16793b352a13c78938528ea)\n",
       "        ;\n",
       "\n",
       "        \n",
       "    \n",
       "&lt;/script&gt;\n",
       "&lt;/html&gt;\" style=\"position:absolute;width:100%;height:100%;left:0;top:0;border:none !important;\" allowfullscreen webkitallowfullscreen mozallowfullscreen></iframe></div></div>"
      ],
      "text/plain": [
       "<folium.folium.Map at 0x214312cfb30>"
      ]
     },
     "execution_count": 18,
     "metadata": {},
     "output_type": "execute_result"
    }
   ],
   "source": [
    "# Step 10: Map Visualization of Weather Data\n",
    "map_weather = folium.Map(location=[0, 0], zoom_start=2)  # Center the map globally\n",
    "\n",
    "# Add markers for each city with weather info\n",
    "for _, row in weather_df.iterrows():\n",
    "    folium.Marker(\n",
    "        location=[row[\"Latitude\"], row[\"Longitude\"]],\n",
    "        popup=(\n",
    "            f\"{row['City']}<br>\"\n",
    "            f\"Temperature: {row['Temperature (°C)']:.2f} °C<br>\"\n",
    "            f\"Humidity: {row['Humidity (%)']}%<br>\"\n",
    "            f\"Wind Speed: {row['Wind Speed (m/s)']} m/s\"\n",
    "        )\n",
    "    ).add_to(map_weather)\n",
    "\n",
    "# Display map in Jupyter Notebook\n",
    "map_weather"
   ]
  },
  {
   "cell_type": "markdown",
   "id": "f6720dbb-e695-49bd-93e7-d379d370fe1f",
   "metadata": {},
   "source": [
    "9. Explore and visualize relationships between weather attributes, such as temperature \n",
    "and humidity, using correlation plots or heatmaps. "
   ]
  },
  {
   "cell_type": "code",
   "execution_count": 19,
   "id": "8e132535-df9b-49c8-ba71-8500d64e212b",
   "metadata": {},
   "outputs": [
    {
     "data": {
      "image/png": "[encoded data removed]",
      "text/plain": [
       "<Figure size 800x600 with 2 Axes>"
      ]
     },
     "metadata": {},
     "output_type": "display_data"
    }
   ],
   "source": [
    "# Step 11: Correlation Heatmap of Weather Attributes\n",
    "plt.figure(figsize=(8, 6))\n",
    "sns.heatmap(weather_df[['Temperature (°C)', 'Humidity (%)', 'Wind Speed (m/s)']].corr(), \n",
    "            annot=True, cmap=\"coolwarm\", square=True)\n",
    "plt.title(\"Correlation Between Weather Attributes Across Cities\")\n",
    "plt.show()"
   ]
  },
  {
   "cell_type": "code",
   "execution_count": null,
   "id": "decb7373-2468-4335-8798-bf64f86b215a",
   "metadata": {},
   "outputs": [],
   "source": []
  }
 ],
 "metadata": {
  "kernelspec": {
   "display_name": "Python 3 (ipykernel)",
   "language": "python",
   "name": "python3"
  },
  "language_info": {
   "codemirror_mode": {
    "name": "ipython",
    "version": 3
   },
   "file_extension": ".py",
   "mimetype": "text/x-python",
   "name": "python",
   "nbconvert_exporter": "python",
   "pygments_lexer": "ipython3",
   "version": "3.12.3"
  }
 },
 "nbformat": 4,
 "nbformat_minor": 5
}
